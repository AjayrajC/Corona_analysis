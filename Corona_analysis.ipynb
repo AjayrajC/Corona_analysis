{
  "nbformat": 4,
  "nbformat_minor": 0,
  "metadata": {
    "colab": {
      "provenance": []
    },
    "kernelspec": {
      "name": "python3",
      "display_name": "Python 3"
    },
    "language_info": {
      "name": "python"
    }
  },
  "cells": [
    {
      "cell_type": "code",
      "source": [
        "!pip install pyspark"
      ],
      "metadata": {
        "colab": {
          "base_uri": "https://localhost:8080/"
        },
        "id": "q7oS5roQSbs7",
        "outputId": "b6166cb7-2561-4526-8609-88d604ab87b4"
      },
      "execution_count": 1,
      "outputs": [
        {
          "output_type": "stream",
          "name": "stdout",
          "text": [
            "Collecting pyspark\n",
            "  Downloading pyspark-3.5.1.tar.gz (317.0 MB)\n",
            "\u001b[2K     \u001b[90m━━━━━━━━━━━━━━━━━━━━━━━━━━━━━━━━━━━━━━━━\u001b[0m \u001b[32m317.0/317.0 MB\u001b[0m \u001b[31m1.8 MB/s\u001b[0m eta \u001b[36m0:00:00\u001b[0m\n",
            "\u001b[?25h  Preparing metadata (setup.py) ... \u001b[?25l\u001b[?25hdone\n",
            "Requirement already satisfied: py4j==0.10.9.7 in /usr/local/lib/python3.10/dist-packages (from pyspark) (0.10.9.7)\n",
            "Building wheels for collected packages: pyspark\n",
            "  Building wheel for pyspark (setup.py) ... \u001b[?25l\u001b[?25hdone\n",
            "  Created wheel for pyspark: filename=pyspark-3.5.1-py2.py3-none-any.whl size=317488491 sha256=dbdfb910327f4ae8b0fa4bfd9592f5d671edea5d145038a275dc3c090645e0c6\n",
            "  Stored in directory: /root/.cache/pip/wheels/80/1d/60/2c256ed38dddce2fdd93be545214a63e02fbd8d74fb0b7f3a6\n",
            "Successfully built pyspark\n",
            "Installing collected packages: pyspark\n",
            "Successfully installed pyspark-3.5.1\n"
          ]
        }
      ]
    },
    {
      "cell_type": "code",
      "execution_count": 12,
      "metadata": {
        "id": "TuxiZrWSQyU0"
      },
      "outputs": [],
      "source": [
        "from pyspark.sql import SparkSession\n",
        "from pyspark.sql.functions import month, col, count, when, coalesce, min, max, sum, avg, variance, stddev_pop, to_date"
      ]
    },
    {
      "cell_type": "code",
      "source": [
        "spark = SparkSession.builder.appName(\"CoronaVirusAnalysis\").getOrCreate()"
      ],
      "metadata": {
        "id": "g-MRb8b9S3sE"
      },
      "execution_count": 53,
      "outputs": []
    },
    {
      "cell_type": "code",
      "source": [
        "corona_df = spark.read.csv(\"/content/Corona Virus Dataset.csv\", header=True, inferSchema=True)"
      ],
      "metadata": {
        "id": "8Hr-XFNHTFqA"
      },
      "execution_count": 4,
      "outputs": []
    },
    {
      "cell_type": "markdown",
      "source": [
        "**1. Write a code to check NULL values**"
      ],
      "metadata": {
        "id": "NdF3t1AhUVgB"
      }
    },
    {
      "cell_type": "code",
      "source": [
        "for col_name in corona_df.columns:\n",
        "    null_count = corona_df.filter(corona_df[col_name].isNull()).count()\n",
        "    print(f\"Column '{col_name}' has {null_count} null values.\")"
      ],
      "metadata": {
        "colab": {
          "base_uri": "https://localhost:8080/"
        },
        "id": "y46fISp3Tumy",
        "outputId": "ecaf9414-638d-4caf-9b0b-4d367715b706"
      },
      "execution_count": 5,
      "outputs": [
        {
          "output_type": "stream",
          "name": "stdout",
          "text": [
            "Column 'Province' has 0 null values.\n",
            "Column 'Country/Region' has 0 null values.\n",
            "Column 'Latitude' has 0 null values.\n",
            "Column 'Longitude' has 0 null values.\n",
            "Column 'Date' has 0 null values.\n",
            "Column 'Confirmed' has 0 null values.\n",
            "Column 'Deaths' has 0 null values.\n",
            "Column 'Recovered' has 0 null values.\n"
          ]
        }
      ]
    },
    {
      "cell_type": "markdown",
      "source": [
        "**2. If NULL values are present, update them with zeros for all columns.**"
      ],
      "metadata": {
        "id": "uDjWGfwEVant"
      }
    },
    {
      "cell_type": "code",
      "source": [
        "corona_df = corona_df.fillna(0)"
      ],
      "metadata": {
        "id": "HMWQjIkIUtZe"
      },
      "execution_count": 6,
      "outputs": []
    },
    {
      "cell_type": "markdown",
      "source": [
        "**3. Check total number of rows**"
      ],
      "metadata": {
        "id": "hi_TtyJZXJn4"
      }
    },
    {
      "cell_type": "code",
      "source": [
        "total_rows = corona_df.count()\n",
        "print(\"Total number of rows:\", total_rows)"
      ],
      "metadata": {
        "colab": {
          "base_uri": "https://localhost:8080/"
        },
        "id": "wO0k1NayVkCj",
        "outputId": "6fafee92-0407-4c54-b11f-cd91ed34f5bb"
      },
      "execution_count": 7,
      "outputs": [
        {
          "output_type": "stream",
          "name": "stdout",
          "text": [
            "Total number of rows: 78386\n"
          ]
        }
      ]
    },
    {
      "cell_type": "markdown",
      "source": [
        "**4. Check what is start_date and end_date**"
      ],
      "metadata": {
        "id": "bNHF4CqIXoON"
      }
    },
    {
      "cell_type": "code",
      "source": [
        "start_date, end_date = corona_df.select(max(\"Date\"), min(\"Date\")).first()\n",
        "print(\"Start date:\", start_date)\n",
        "print(\"End date:\", end_date)\n"
      ],
      "metadata": {
        "colab": {
          "base_uri": "https://localhost:8080/"
        },
        "id": "8twCsDGzXjRk",
        "outputId": "845af630-4dde-4b28-935a-6028de4cd4a3"
      },
      "execution_count": 8,
      "outputs": [
        {
          "output_type": "stream",
          "name": "stdout",
          "text": [
            "Start date: 31-12-2020\n",
            "End date: 01-01-2021\n"
          ]
        }
      ]
    },
    {
      "cell_type": "markdown",
      "source": [
        "**5. Number of months present in dataset**"
      ],
      "metadata": {
        "id": "YKfoLa1CXb_6"
      }
    },
    {
      "cell_type": "code",
      "source": [
        "num_months = corona_df.selectExpr(\"count(distinct substr(Date, 1, 7)) as num_months\").first()[\"num_months\"]\n",
        "print(\"Number of months present in dataset:\", num_months)"
      ],
      "metadata": {
        "colab": {
          "base_uri": "https://localhost:8080/"
        },
        "id": "McmgKUWOVkfh",
        "outputId": "1ba04de7-2f7f-4c43-cc0b-a0e1d44c8b0c"
      },
      "execution_count": 9,
      "outputs": [
        {
          "output_type": "stream",
          "name": "stdout",
          "text": [
            "Number of months present in dataset: 366\n"
          ]
        }
      ]
    },
    {
      "cell_type": "markdown",
      "source": [
        "**6. Find monthly average for confirmed, deaths, recovered**"
      ],
      "metadata": {
        "id": "yNIiWNQAXgHt"
      }
    },
    {
      "cell_type": "code",
      "source": [
        "corona_df = corona_df.withColumn(\"Date\", to_date(col(\"Date\"), \"dd-MM-yyyy\"))\n",
        "\n",
        "corona_df1 = corona_df.withColumn(\"Month\", month(\"Date\"))\n",
        "\n",
        "monthly_avg = corona_df1.groupBy(\"Month\").agg(avg(\"Confirmed\").alias(\"AvgConfirmed\"),\n",
        "                                             avg(\"Deaths\").alias(\"AvgDeaths\"),\n",
        "                                             avg(\"Recovered\").alias(\"AvgRecovered\")).orderBy(\"Month\")\n",
        "\n",
        "monthly_avg.show()"
      ],
      "metadata": {
        "colab": {
          "base_uri": "https://localhost:8080/"
        },
        "id": "ckliRMhBXfdl",
        "outputId": "0646509f-b6a4-4dbc-a9cc-b097e7c46b59"
      },
      "execution_count": 52,
      "outputs": [
        {
          "output_type": "stream",
          "name": "stdout",
          "text": [
            "+-----+------------------+------------------+------------------+\n",
            "|Month|      AvgConfirmed|         AvgDeaths|      AvgRecovered|\n",
            "+-----+------------------+------------------+------------------+\n",
            "|    1| 2958.281438074121|63.681184668989545|1451.4554957237883|\n",
            "|    2| 1203.118705855548| 34.27773980405559| 769.1034404192299|\n",
            "|    3|1538.9637620444073| 33.93024717218265| 840.0799120234605|\n",
            "|    4| 2602.577813852814| 59.98051948051948|1623.2136363636364|\n",
            "|    5| 2290.051948051948|  53.5305823209049|2162.9020737327187|\n",
            "|    6|1357.8852310480218|40.835699184536395|1220.1532769556025|\n",
            "|    7|1432.3611227482195|35.109551738583995| 983.0582320904902|\n",
            "|    8|1611.8428990364475|  37.5366568914956|1299.2947214076246|\n",
            "|    9| 1784.587445887446|34.777272727272724|1438.9067099567098|\n",
            "|   10|2412.1996229576876| 36.75827398408043|1420.6430666108085|\n",
            "|   11|3592.1943722943724|56.763419913419916|1985.3445887445887|\n",
            "|   12|4050.4396732299956| 71.21826560536238|2497.8850020946793|\n",
            "+-----+------------------+------------------+------------------+\n",
            "\n"
          ]
        }
      ]
    },
    {
      "cell_type": "markdown",
      "source": [
        "**7. Find most frequent value for confirmed, deaths, recovered each month**"
      ],
      "metadata": {
        "id": "hW_hdYkibmc4"
      }
    },
    {
      "cell_type": "code",
      "source": [
        "from pyspark.sql.functions import col, month, approx_count_distinct\n",
        "corona_df = corona_df.withColumn(\"Month\", month(\"Date\"))\n",
        "\n",
        "\n",
        "monthly_mode = corona_df.groupBy(\"Month\").agg(approx_count_distinct(\"Confirmed\").alias(\"Frequent_Confirmed\"),\n",
        "                                              approx_count_distinct(\"Deaths\").alias(\"Frequent_Deaths\"),\n",
        "                                              approx_count_distinct(\"Recovered\").alias(\"Frequent_Recovered\")).orderBy(\"Month\")\n",
        "\n",
        "monthly_mode.show()"
      ],
      "metadata": {
        "colab": {
          "base_uri": "https://localhost:8080/"
        },
        "id": "vk650CHDXuN1",
        "outputId": "9e933fbd-c6bf-4e0e-e268-b3c34a81ddee"
      },
      "execution_count": 51,
      "outputs": [
        {
          "output_type": "stream",
          "name": "stdout",
          "text": [
            "+-----+------------------+---------------+------------------+\n",
            "|Month|Frequent_Confirmed|Frequent_Deaths|Frequent_Recovered|\n",
            "+-----+------------------+---------------+------------------+\n",
            "|    1|              2281|            530|              1840|\n",
            "|    2|              1855|            476|              1623|\n",
            "|    3|              2144|            489|              1671|\n",
            "|    4|              2461|            668|              1824|\n",
            "|    5|              2472|            580|              2171|\n",
            "|    6|              1756|            410|              1572|\n",
            "|    7|              1465|            355|              1133|\n",
            "|    8|              1513|            351|              1293|\n",
            "|    9|              1596|            347|              1280|\n",
            "|   10|              1887|            341|              1396|\n",
            "|   11|              1928|            447|              1607|\n",
            "|   12|              1988|            505|              1780|\n",
            "+-----+------------------+---------------+------------------+\n",
            "\n"
          ]
        }
      ]
    },
    {
      "cell_type": "markdown",
      "source": [
        "**8. Find minimum values for confirmed, deaths, recovered per year**"
      ],
      "metadata": {
        "id": "Bs96gVwobvk9"
      }
    },
    {
      "cell_type": "code",
      "source": [
        "from pyspark.sql.functions import year\n",
        "corona_df = corona_df.withColumn(\"Year\", year(\"Date\"))\n",
        "\n",
        "yearly_min = corona_df.groupBy(\"Year\").agg(min(\"Confirmed\").alias(\"MinConfirmed\"),\n",
        "                                           min(\"Deaths\").alias(\"MinDeaths\"),\n",
        "                                           min(\"Recovered\").alias(\"MinRecovered\"))\n",
        "\n",
        "yearly_min.show()"
      ],
      "metadata": {
        "colab": {
          "base_uri": "https://localhost:8080/"
        },
        "id": "m0a7tC7wXudd",
        "outputId": "722a39fe-9923-407c-85b0-6d7ddd17f095"
      },
      "execution_count": 28,
      "outputs": [
        {
          "output_type": "stream",
          "name": "stdout",
          "text": [
            "+----+------------+---------+------------+\n",
            "|Year|MinConfirmed|MinDeaths|MinRecovered|\n",
            "+----+------------+---------+------------+\n",
            "|2020|           0|        0|           0|\n",
            "|2021|           0|        0|           0|\n",
            "+----+------------+---------+------------+\n",
            "\n"
          ]
        }
      ]
    },
    {
      "cell_type": "markdown",
      "source": [
        "**9. Find maximum values of confirmed, deaths, recovered per year**"
      ],
      "metadata": {
        "id": "T1H3Cuz5YEQw"
      }
    },
    {
      "cell_type": "code",
      "source": [
        "yearly_max = corona_df.groupBy(\"Year\").agg(max(\"Confirmed\").alias(\"MaxConfirmed\"),\n",
        "                                           max(\"Deaths\").alias(\"MaxDeaths\"),\n",
        "                                           max(\"Recovered\").alias(\"MaxRecovered\"))\n",
        "yearly_max.show()"
      ],
      "metadata": {
        "colab": {
          "base_uri": "https://localhost:8080/"
        },
        "id": "aBB_8zf8XupL",
        "outputId": "d702ca4c-8c62-4366-9327-cbe950497ebe"
      },
      "execution_count": 29,
      "outputs": [
        {
          "output_type": "stream",
          "name": "stdout",
          "text": [
            "+----+------------+---------+------------+\n",
            "|Year|MaxConfirmed|MaxDeaths|MaxRecovered|\n",
            "+----+------------+---------+------------+\n",
            "|2020|      823225|     3752|     1123456|\n",
            "|2021|      414188|     7374|      422436|\n",
            "+----+------------+---------+------------+\n",
            "\n"
          ]
        }
      ]
    },
    {
      "cell_type": "markdown",
      "source": [
        "**10. The total number of cases of confirmed, deaths, recovered each month**"
      ],
      "metadata": {
        "id": "huaK01U9YH4P"
      }
    },
    {
      "cell_type": "code",
      "source": [
        "\n",
        "monthly_total = corona_df.groupBy(\"Month\").agg(sum(\"Confirmed\").alias(\"TotalConfirmed\"),\n",
        "                                              sum(\"Deaths\").alias(\"TotalDeaths\"),\n",
        "                                              sum(\"Recovered\").alias(\"TotalRecovered\")).orderBy(\"Month\")\n",
        "monthly_total.show()"
      ],
      "metadata": {
        "colab": {
          "base_uri": "https://localhost:8080/"
        },
        "id": "RRsx49IqXuyj",
        "outputId": "bc0dd3ab-02b3-4058-c172-b17d367aa142"
      },
      "execution_count": 50,
      "outputs": [
        {
          "output_type": "stream",
          "name": "stdout",
          "text": [
            "+-----+--------------+-----------+--------------+\n",
            "|Month|TotalConfirmed|TotalDeaths|TotalRecovered|\n",
            "+-----+--------------+-----------+--------------+\n",
            "|    1|      18678589|     402083|       9164490|\n",
            "|    2|      10560976|     300890|       6751190|\n",
            "|    3|      14694026|     323966|       8021083|\n",
            "|    4|      24047819|     554220|      14998494|\n",
            "|    5|      21865416|     511110|      20651389|\n",
            "|    6|       8991916|     270414|       8079855|\n",
            "|    7|       6838092|     167613|       4693120|\n",
            "|    8|       7694938|     179200|       6202833|\n",
            "|    9|       8244794|     160671|       6647749|\n",
            "|   10|      11515841|     175484|       6782150|\n",
            "|   11|      16595938|     262247|       9172292|\n",
            "|   12|      19336799|     339996|      11924903|\n",
            "+-----+--------------+-----------+--------------+\n",
            "\n"
          ]
        }
      ]
    },
    {
      "cell_type": "markdown",
      "source": [
        "**11. Check how corona virus spread out with respect to confirmed case**"
      ],
      "metadata": {
        "id": "6Q4eptSpYMJb"
      }
    },
    {
      "cell_type": "code",
      "source": [
        "\n",
        "spread_confirmed = corona_df.agg(sum(\"Confirmed\").alias(\"TotalConfirmed\"),\n",
        "                                 avg(\"Confirmed\").alias(\"AverageConfirmed\"),\n",
        "                                 variance(\"Confirmed\").alias(\"VarianceConfirmed\"),\n",
        "                                 stddev_pop(\"Confirmed\").alias(\"StdevConfirmed\"))\n",
        "spread_confirmed.show()"
      ],
      "metadata": {
        "colab": {
          "base_uri": "https://localhost:8080/"
        },
        "id": "g7uO7atNXu8A",
        "outputId": "a52690d2-a43e-4470-c375-1838962c7b72"
      },
      "execution_count": 31,
      "outputs": [
        {
          "output_type": "stream",
          "name": "stdout",
          "text": [
            "+--------------+------------------+-------------------+------------------+\n",
            "|TotalConfirmed|  AverageConfirmed|  VarianceConfirmed|    StdevConfirmed|\n",
            "+--------------+------------------+-------------------+------------------+\n",
            "|     169065144|2156.8283111780165|1.572909316981742E8|12541.488152446873|\n",
            "+--------------+------------------+-------------------+------------------+\n",
            "\n"
          ]
        }
      ]
    },
    {
      "cell_type": "markdown",
      "source": [
        "**12. Check how corona virus spread out with respect to death case per month**"
      ],
      "metadata": {
        "id": "H_1R0IkiYQpe"
      }
    },
    {
      "cell_type": "code",
      "source": [
        "\n",
        "spread_death = corona_df.groupBy(\"Month\").agg(sum(\"Deaths\").alias(\"TotalDeaths\"),\n",
        "                                              avg(\"Deaths\").alias(\"AverageDeaths\"),\n",
        "                                              variance(\"Deaths\").alias(\"VarianceDeaths\"),\n",
        "                                              stddev_pop(\"Deaths\").alias(\"StdevDeaths\")).orderBy(\"Month\")\n",
        "spread_death.show()"
      ],
      "metadata": {
        "colab": {
          "base_uri": "https://localhost:8080/"
        },
        "id": "vF9bahNsXvEy",
        "outputId": "c26e041c-4762-4c63-cd4d-8ee63c14e285"
      },
      "execution_count": 49,
      "outputs": [
        {
          "output_type": "stream",
          "name": "stdout",
          "text": [
            "+-----+-----------+------------------+------------------+------------------+\n",
            "|Month|TotalDeaths|     AverageDeaths|    VarianceDeaths|       StdevDeaths|\n",
            "+-----+-----------+------------------+------------------+------------------+\n",
            "|    1|     402083|63.681184668989545| 79012.04454692524| 281.0685517110834|\n",
            "|    2|     300890| 34.27773980405559|    34852.61830584|186.67792546229236|\n",
            "|    3|     323966| 33.93024717218265|29785.052429518862|172.57442719754695|\n",
            "|    4|     554220| 59.98051948051948| 67905.92472058737| 260.5735512183371|\n",
            "|    5|     511110|  53.5305823209049| 76775.77941447152|277.06991605343194|\n",
            "|    6|     270414|40.835699184536395|46250.187470278266|215.04232873365433|\n",
            "|    7|     167613|35.109551738583995|21144.584057079526| 145.3965437841416|\n",
            "|    8|     179200|  37.5366568914956| 23277.87242510872| 152.5548965351778|\n",
            "|    9|     160671|34.777272727272724|20107.121414513156|141.78423475030922|\n",
            "|   10|     175484| 36.75827398408043|17583.754252708517|132.58986016934787|\n",
            "|   11|     262247|56.763419913419916|27779.806542101196| 166.6547136955994|\n",
            "|   12|     339996| 71.21826560536238| 65359.05982971704| 255.6274030720276|\n",
            "+-----+-----------+------------------+------------------+------------------+\n",
            "\n"
          ]
        }
      ]
    },
    {
      "cell_type": "markdown",
      "source": [
        "**13. Check how corona virus spread out with respect to recovered case**"
      ],
      "metadata": {
        "id": "5XcJj4TUYUTD"
      }
    },
    {
      "cell_type": "code",
      "source": [
        "\n",
        "spread_recovered = corona_df.agg(sum(\"Recovered\").alias(\"TotalRecovered\"),\n",
        "                                 avg(\"Recovered\").alias(\"AverageRecovered\"),\n",
        "                                 variance(\"Recovered\").alias(\"VarianceRecovered\"),\n",
        "                                 stddev_pop(\"Recovered\").alias(\"StdevRecovered\"))\n",
        "spread_recovered.show()"
      ],
      "metadata": {
        "colab": {
          "base_uri": "https://localhost:8080/"
        },
        "id": "PFkejnv7XvNZ",
        "outputId": "fac9d5ee-73d6-4b64-fc6e-951785b3d35d"
      },
      "execution_count": 33,
      "outputs": [
        {
          "output_type": "stream",
          "name": "stdout",
          "text": [
            "+--------------+------------------+--------------------+------------------+\n",
            "|TotalRecovered|  AverageRecovered|   VarianceRecovered|    StdevRecovered|\n",
            "+--------------+------------------+--------------------+------------------+\n",
            "|     113089548|1442.7263541959023|1.0703088869603062E8|10345.507395110997|\n",
            "+--------------+------------------+--------------------+------------------+\n",
            "\n"
          ]
        }
      ]
    },
    {
      "cell_type": "markdown",
      "source": [
        "**14. Find Country having the highest number of confirmed cases**"
      ],
      "metadata": {
        "id": "ETXm8oNOcJ1K"
      }
    },
    {
      "cell_type": "code",
      "source": [
        "\n",
        "highest_confirmed_country = corona_df.groupBy(\"Country/Region\").agg(max(\"Confirmed\").alias(\"MaxConfirmed\")).orderBy(col(\"MaxConfirmed\").desc()).limit(1)\n",
        "highest_confirmed_country.show()"
      ],
      "metadata": {
        "colab": {
          "base_uri": "https://localhost:8080/"
        },
        "id": "k5kDYsU1XvW_",
        "outputId": "e604f16e-cf39-44ab-b359-90c3975d0754"
      },
      "execution_count": 34,
      "outputs": [
        {
          "output_type": "stream",
          "name": "stdout",
          "text": [
            "+--------------+------------+\n",
            "|Country/Region|MaxConfirmed|\n",
            "+--------------+------------+\n",
            "|        Turkey|      823225|\n",
            "+--------------+------------+\n",
            "\n"
          ]
        }
      ]
    },
    {
      "cell_type": "markdown",
      "source": [
        "**15. Find Country having the lowest number of death cases**"
      ],
      "metadata": {
        "id": "L-F7l2HlcM7D"
      }
    },
    {
      "cell_type": "code",
      "source": [
        "\n",
        "lowest_death_country = corona_df.groupBy(\"Country/Region\").agg(min(\"Deaths\").alias(\"MinDeaths\")).orderBy(col(\"MinDeaths\")).limit(1)\n",
        "lowest_death_country.show()"
      ],
      "metadata": {
        "colab": {
          "base_uri": "https://localhost:8080/"
        },
        "id": "hHJg8XiZXvf2",
        "outputId": "e23e5d46-3f16-4f8d-9571-9e7347cebde7"
      },
      "execution_count": 35,
      "outputs": [
        {
          "output_type": "stream",
          "name": "stdout",
          "text": [
            "+--------------+---------+\n",
            "|Country/Region|MinDeaths|\n",
            "+--------------+---------+\n",
            "|      Paraguay|        0|\n",
            "+--------------+---------+\n",
            "\n"
          ]
        }
      ]
    },
    {
      "cell_type": "markdown",
      "source": [
        "**16. Find top 5 countries having the highest recovered cases**"
      ],
      "metadata": {
        "id": "0_M1CiCIcP0P"
      }
    },
    {
      "cell_type": "code",
      "source": [
        "\n",
        "top_recovered_countries = corona_df.groupBy(\"Country/Region\").agg(sum(\"Recovered\").alias(\"TotalRecovered\")).orderBy(col(\"TotalRecovered\").desc()).limit(5)\n",
        "top_recovered_countries.show()"
      ],
      "metadata": {
        "colab": {
          "base_uri": "https://localhost:8080/"
        },
        "id": "JXyQ5xe0bAZf",
        "outputId": "909d36cb-068f-429d-ba2c-19e54505a456"
      },
      "execution_count": 36,
      "outputs": [
        {
          "output_type": "stream",
          "name": "stdout",
          "text": [
            "+--------------+--------------+\n",
            "|Country/Region|TotalRecovered|\n",
            "+--------------+--------------+\n",
            "|         India|      28089649|\n",
            "|        Brazil|      15400169|\n",
            "|            US|       6303715|\n",
            "|        Turkey|       5202251|\n",
            "|        Russia|       4745756|\n",
            "+--------------+--------------+\n",
            "\n"
          ]
        }
      ]
    }
  ]
}